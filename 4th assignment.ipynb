{
 "cells": [
  {
   "cell_type": "code",
   "execution_count": null,
   "id": "7cecd6c7-82eb-427b-8f16-f2fb26bcec7c",
   "metadata": {},
   "outputs": [],
   "source": [
    "Q1"
   ]
  },
  {
   "cell_type": "code",
   "execution_count": 5,
   "id": "eabffd28-735b-4385-a154-fc3122df21e0",
   "metadata": {},
   "outputs": [],
   "source": [
    "data = [('Sachin Tendulkar', 34357), ('Ricky Ponting', 27483), ('Jack Kallis', 25534), ('Virat Kohli', 24936)]"
   ]
  },
  {
   "cell_type": "code",
   "execution_count": 6,
   "id": "dbdd0bad-5f1e-40c2-9024-48358d52ca31",
   "metadata": {},
   "outputs": [],
   "source": [
    "sorted_data = sorted(data, key=lambda x: x[0])"
   ]
  },
  {
   "cell_type": "code",
   "execution_count": 7,
   "id": "179ec74f-ca73-4f32-b660-0ff82e5bfeed",
   "metadata": {},
   "outputs": [
    {
     "name": "stdout",
     "output_type": "stream",
     "text": [
      "('Jack Kallis', 25534)\n",
      "('Ricky Ponting', 27483)\n",
      "('Sachin Tendulkar', 34357)\n",
      "('Virat Kohli', 24936)\n"
     ]
    }
   ],
   "source": [
    "for item in sorted_data:\n",
    "    print(item)"
   ]
  },
  {
   "cell_type": "code",
   "execution_count": null,
   "id": "7fb20615-5090-4230-b3ae-6ac20646b768",
   "metadata": {},
   "outputs": [],
   "source": [
    "Q2"
   ]
  },
  {
   "cell_type": "code",
   "execution_count": 9,
   "id": "83c0bc83-6f4a-4a1d-ac32-3244167f0c12",
   "metadata": {},
   "outputs": [],
   "source": [
    "numbers = [1,2,3,4,5,6,7,8,9,10]"
   ]
  },
  {
   "cell_type": "code",
   "execution_count": 10,
   "id": "9e782c74-6258-473c-b20e-6678fdf0d784",
   "metadata": {},
   "outputs": [],
   "source": [
    "squares = list(map(lambda x:x**2 , numbers))"
   ]
  },
  {
   "cell_type": "code",
   "execution_count": 11,
   "id": "cc1bc1dc-6b85-4af5-8670-e45e28f56c83",
   "metadata": {},
   "outputs": [
    {
     "name": "stdout",
     "output_type": "stream",
     "text": [
      "[1, 4, 9, 16, 25, 36, 49, 64, 81, 100]\n"
     ]
    }
   ],
   "source": [
    "print(squares)"
   ]
  },
  {
   "cell_type": "code",
   "execution_count": null,
   "id": "91f3fc94-14ae-4bb8-9780-2c2b35bdcd3d",
   "metadata": {},
   "outputs": [],
   "source": [
    "Q3"
   ]
  },
  {
   "cell_type": "code",
   "execution_count": 12,
   "id": "eb802e57-7efb-4a26-b993-dc1c4f1cfd35",
   "metadata": {},
   "outputs": [],
   "source": [
    "numbers = [1, 2, 3, 4, 5, 6, 7, 8, 9, 10]"
   ]
  },
  {
   "cell_type": "code",
   "execution_count": 13,
   "id": "053d8555-b685-46dc-908c-b9e7f852f12f",
   "metadata": {},
   "outputs": [],
   "source": [
    "string_tuple = tuple(map(lambda x: str(x), numbers))"
   ]
  },
  {
   "cell_type": "code",
   "execution_count": 14,
   "id": "05ce6b17-ad32-4cc5-bf5d-5273e464317a",
   "metadata": {},
   "outputs": [
    {
     "name": "stdout",
     "output_type": "stream",
     "text": [
      "('1', '2', '3', '4', '5', '6', '7', '8', '9', '10')\n"
     ]
    }
   ],
   "source": [
    "print(string_tuple)"
   ]
  },
  {
   "cell_type": "code",
   "execution_count": null,
   "id": "ac30e2b8-106e-4d18-84d2-201b519a0397",
   "metadata": {},
   "outputs": [],
   "source": [
    "Q4"
   ]
  },
  {
   "cell_type": "code",
   "execution_count": 15,
   "id": "ce549bd3-5ac1-48ef-aa74-af82ae21f2cf",
   "metadata": {},
   "outputs": [],
   "source": [
    "from functools import reduce"
   ]
  },
  {
   "cell_type": "code",
   "execution_count": 16,
   "id": "e3dd9e31-38cf-4e8a-b6a2-72553b29fd31",
   "metadata": {},
   "outputs": [],
   "source": [
    "numbers = list(range(1, 26))"
   ]
  },
  {
   "cell_type": "code",
   "execution_count": 17,
   "id": "b6dc3112-5d54-45c3-b001-7e5cf73d2371",
   "metadata": {},
   "outputs": [],
   "source": [
    "product = reduce(lambda x, y: x * y, numbers)"
   ]
  },
  {
   "cell_type": "code",
   "execution_count": 18,
   "id": "0a175155-cc89-4462-9ef3-ef921a9fb3c3",
   "metadata": {},
   "outputs": [
    {
     "name": "stdout",
     "output_type": "stream",
     "text": [
      "Product: 15511210043330985984000000\n"
     ]
    }
   ],
   "source": [
    "print(\"Product:\", product)"
   ]
  },
  {
   "cell_type": "code",
   "execution_count": null,
   "id": "bc16c8ed-5845-41aa-8404-41fe9aa153bd",
   "metadata": {},
   "outputs": [],
   "source": [
    "Q5"
   ]
  },
  {
   "cell_type": "code",
   "execution_count": 19,
   "id": "7b516ac6-d98d-40bc-a74b-ed390b3469de",
   "metadata": {},
   "outputs": [],
   "source": [
    "numbers = [2, 3, 6, 9, 27, 60, 90, 120, 55, 46]"
   ]
  },
  {
   "cell_type": "code",
   "execution_count": 20,
   "id": "0ab3ec2b-e096-4690-bb9b-62ee607c52ab",
   "metadata": {},
   "outputs": [],
   "source": [
    "divisible_by_2_and_3 = list(filter(lambda x: x % 2 == 0 and x % 3 == 0, numbers))"
   ]
  },
  {
   "cell_type": "code",
   "execution_count": 21,
   "id": "034061f0-53ff-4ea9-a87f-b94ae9f0632b",
   "metadata": {},
   "outputs": [
    {
     "name": "stdout",
     "output_type": "stream",
     "text": [
      "[6, 60, 90, 120]\n"
     ]
    }
   ],
   "source": [
    "print(divisible_by_2_and_3)"
   ]
  },
  {
   "cell_type": "code",
   "execution_count": null,
   "id": "d5a0150f-579b-49a8-9732-66e09e8e4dbf",
   "metadata": {},
   "outputs": [],
   "source": [
    "Q6"
   ]
  },
  {
   "cell_type": "code",
   "execution_count": 22,
   "id": "d8db39b8-5b53-46f3-a64a-55e989bc0206",
   "metadata": {},
   "outputs": [],
   "source": [
    "strings = ['python', 'php', 'aba', 'radar', 'level']\n"
   ]
  },
  {
   "cell_type": "code",
   "execution_count": 23,
   "id": "1246107c-d6cc-459f-be75-c670b8019405",
   "metadata": {},
   "outputs": [],
   "source": [
    "palindromes = list(filter(lambda s: s == s[::-1], strings))"
   ]
  },
  {
   "cell_type": "code",
   "execution_count": 24,
   "id": "30752448-607b-48c7-8776-5e4bd3ace0d3",
   "metadata": {},
   "outputs": [
    {
     "name": "stdout",
     "output_type": "stream",
     "text": [
      "['php', 'aba', 'radar', 'level']\n"
     ]
    }
   ],
   "source": [
    "print(palindromes)"
   ]
  },
  {
   "cell_type": "code",
   "execution_count": null,
   "id": "89f7ebee-efcf-47ac-8ee4-d3ba1d8f44e9",
   "metadata": {},
   "outputs": [],
   "source": []
  }
 ],
 "metadata": {
  "kernelspec": {
   "display_name": "Python 3 (ipykernel)",
   "language": "python",
   "name": "python3"
  },
  "language_info": {
   "codemirror_mode": {
    "name": "ipython",
    "version": 3
   },
   "file_extension": ".py",
   "mimetype": "text/x-python",
   "name": "python",
   "nbconvert_exporter": "python",
   "pygments_lexer": "ipython3",
   "version": "3.10.8"
  }
 },
 "nbformat": 4,
 "nbformat_minor": 5
}
